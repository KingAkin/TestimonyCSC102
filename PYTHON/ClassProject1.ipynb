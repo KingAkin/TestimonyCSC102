{
 "cells": [
  {
   "cell_type": "code",
   "execution_count": 4,
   "id": "386d2194-1e00-489c-8bb2-0ef1100e563b",
   "metadata": {},
   "outputs": [
    {
     "name": "stdout",
     "output_type": "stream",
     "text": [
      "Oyinda = 29\n",
      "Karo = 30\n"
     ]
    }
   ],
   "source": [
    "Karo = 29\n",
    "Oyinda = 30\n",
    "\n",
    "#to print Karo as 30 and Oyinda as 29\n",
    "print('Oyinda =', Karo)\n",
    "print('Karo =', Oyinda)"
   ]
  }
 ],
 "metadata": {
  "kernelspec": {
   "display_name": "Python 3 (ipykernel)",
   "language": "python",
   "name": "python3"
  },
  "language_info": {
   "codemirror_mode": {
    "name": "ipython",
    "version": 3
   },
   "file_extension": ".py",
   "mimetype": "text/x-python",
   "name": "python",
   "nbconvert_exporter": "python",
   "pygments_lexer": "ipython3",
   "version": "3.9.7"
  }
 },
 "nbformat": 4,
 "nbformat_minor": 5
}
