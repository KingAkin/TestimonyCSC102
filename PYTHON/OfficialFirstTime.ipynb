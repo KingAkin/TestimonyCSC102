{
 "cells": [
  {
   "cell_type": "code",
   "execution_count": 3,
   "id": "501a873d-bf69-407c-868c-b0772e41fbfe",
   "metadata": {},
   "outputs": [
    {
     "name": "stdout",
     "output_type": "stream",
     "text": [
      "100\n",
      "Data Type of variable num is <class 'int'>\n",
      "34.45\n",
      "Data Type of variable fnum is <class 'float'>\n",
      "(3+4j)\n",
      "Data Type of variable cnum is <class 'complex'>\n"
     ]
    }
   ],
   "source": [
    "# Integer Number\n",
    "num = 100\n",
    "print(num)\n",
    "print(\"Data Type of variable num is\", type(num))\n",
    "\n",
    "#float number\n",
    "fnum = 34.45\n",
    "print(fnum)\n",
    "print(\"Data Type of variable fnum is\", type(fnum))\n",
    "\n",
    "#complex number\n",
    "cnum = 3 + 4j\n",
    "print(cnum)\n",
    "print(\"Data Type of variable cnum is\", type(cnum))"
   ]
  },
  {
   "cell_type": "code",
   "execution_count": 5,
   "id": "0e569c20-64a2-483b-ad16-b67ec38271ee",
   "metadata": {},
   "outputs": [
    {
     "name": "stdout",
     "output_type": "stream",
     "text": [
      "Hi my name is Testimony. I am a string\n",
      "<class 'str'>\n",
      "Hi my name is Testimony. I am a string\n",
      "<class 'str'>\n"
     ]
    }
   ],
   "source": [
    "# Python program to print strings and types\n",
    "str1 = \"Hi my name is Testimony. I am a string\"\n",
    "str2 = \"Hi my name is KingAkin. I am also a King\"\n",
    "\n",
    "# displaying string str1 and its type\n",
    "print(str1)\n",
    "print(type(str1))\n",
    "\n",
    "#displaying tsring str str2 and its type\n",
    "print(str1)\n",
    "print(type(str2))\n"
   ]
  },
  {
   "cell_type": "code",
   "execution_count": 10,
   "id": "79b29079-3925-43dd-bc0a-838dabef2647",
   "metadata": {},
   "outputs": [
    {
     "name": "stdout",
     "output_type": "stream",
     "text": [
      "Amount is 1020.0\n",
      "Simple interest is 20.0\n"
     ]
    }
   ],
   "source": [
    "P = 1000\n",
    "R = 1 \n",
    "T = 2\n",
    "\n",
    "#simple interest\n",
    "A = (P * (1 + (R / 100) * T))\n",
    "print('Amount is', A)\n",
    "SI = A - P\n",
    "print('Simple interest is', SI)"
   ]
  },
  {
   "cell_type": "code",
   "execution_count": null,
   "id": "aa26e759-65a7-4a9e-83ac-23b8a034ee2b",
   "metadata": {},
   "outputs": [],
   "source": []
  },
  {
   "cell_type": "code",
   "execution_count": null,
   "id": "4d69cd30-d926-4b27-b6c3-3f172d18d68d",
   "metadata": {},
   "outputs": [],
   "source": []
  },
  {
   "cell_type": "code",
   "execution_count": null,
   "id": "c900f7e2-c6d7-4c23-ac2f-ac2da073ddcc",
   "metadata": {},
   "outputs": [],
   "source": []
  }
 ],
 "metadata": {
  "kernelspec": {
   "display_name": "Python 3 (ipykernel)",
   "language": "python",
   "name": "python3"
  },
  "language_info": {
   "codemirror_mode": {
    "name": "ipython",
    "version": 3
   },
   "file_extension": ".py",
   "mimetype": "text/x-python",
   "name": "python",
   "nbconvert_exporter": "python",
   "pygments_lexer": "ipython3",
   "version": "3.9.7"
  }
 },
 "nbformat": 4,
 "nbformat_minor": 5
}
