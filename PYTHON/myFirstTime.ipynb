{
 "cells": [
  {
   "cell_type": "code",
   "execution_count": 1,
   "id": "e08dfe3e-7944-4afb-8121-e3179c4377fb",
   "metadata": {
    "tags": []
   },
   "outputs": [
    {
     "name": "stdout",
     "output_type": "stream",
     "text": [
      "Hello Jay\n"
     ]
    }
   ],
   "source": [
    "print(\"Hello Jay\")"
   ]
  },
  {
   "cell_type": "code",
   "execution_count": 4,
   "id": "4e9c322b-e44e-449d-8ce3-678168bfcf90",
   "metadata": {},
   "outputs": [
    {
     "name": "stdin",
     "output_type": "stream",
     "text": [
      "What's your name KingAKin\n"
     ]
    },
    {
     "name": "stdout",
     "output_type": "stream",
     "text": [
      "Hello, KingAKin\n"
     ]
    }
   ],
   "source": [
    "person = input(\"What's your name\")\n",
    "print('Hello,', person)"
   ]
  },
  {
   "cell_type": "code",
   "execution_count": 3,
   "id": "ca115549-0065-43cb-8667-a37ccdc2b616",
   "metadata": {},
   "outputs": [
    {
     "name": "stdout",
     "output_type": "stream",
     "text": [
      "42\n"
     ]
    }
   ],
   "source": [
    "x = 6 \n",
    "y = x * 7\n",
    "print(y)"
   ]
  },
  {
   "cell_type": "code",
   "execution_count": 5,
   "id": "1469f962-8315-4ace-948e-b2dba246a1e0",
   "metadata": {},
   "outputs": [
    {
     "name": "stdout",
     "output_type": "stream",
     "text": [
      "Adele Joe\n"
     ]
    }
   ],
   "source": [
    "name = 'Adele Joe'\n",
    "print(name)"
   ]
  },
  {
   "cell_type": "code",
   "execution_count": 6,
   "id": "f2614938-4ba1-47f9-a205-069b306383e7",
   "metadata": {},
   "outputs": [
    {
     "name": "stdout",
     "output_type": "stream",
     "text": [
      "Adele Joe\n"
     ]
    }
   ],
   "source": [
    "print(\"Adele Joe\")"
   ]
  },
  {
   "cell_type": "code",
   "execution_count": 7,
   "id": "42734b3d-cffa-44e7-b25e-1092b342cfbf",
   "metadata": {},
   "outputs": [
    {
     "data": {
      "text/plain": [
       "False"
      ]
     },
     "execution_count": 7,
     "metadata": {},
     "output_type": "execute_result"
    }
   ],
   "source": [
    "mango = 5 \n",
    "apple = 3 \n",
    "apple > mango"
   ]
  },
  {
   "cell_type": "code",
   "execution_count": 8,
   "id": "3a3292f9-244c-4462-842f-16e5ab1abe26",
   "metadata": {},
   "outputs": [
    {
     "data": {
      "text/plain": [
       "False"
      ]
     },
     "execution_count": 8,
     "metadata": {},
     "output_type": "execute_result"
    }
   ],
   "source": [
    "mango < apple"
   ]
  },
  {
   "cell_type": "code",
   "execution_count": 9,
   "id": "e405d520-dfdb-4575-b576-63090363529f",
   "metadata": {},
   "outputs": [
    {
     "data": {
      "text/plain": [
       "False"
      ]
     },
     "execution_count": 9,
     "metadata": {},
     "output_type": "execute_result"
    }
   ],
   "source": [
    "mango == apple\n"
   ]
  },
  {
   "cell_type": "code",
   "execution_count": 10,
   "id": "02375f34-fa96-4ab7-af9c-c0044621c7c5",
   "metadata": {},
   "outputs": [
    {
     "data": {
      "text/plain": [
       "True"
      ]
     },
     "execution_count": 10,
     "metadata": {},
     "output_type": "execute_result"
    }
   ],
   "source": [
    "mango > apple"
   ]
  },
  {
   "cell_type": "code",
   "execution_count": 11,
   "id": "c37439ba-2f9b-4162-ac9d-0b3b91d25c69",
   "metadata": {},
   "outputs": [
    {
     "name": "stdout",
     "output_type": "stream",
     "text": [
      "Fuck, KingAKin\n"
     ]
    }
   ],
   "source": [
    "print('Fuck,', person)"
   ]
  },
  {
   "cell_type": "code",
   "execution_count": 13,
   "id": "a7deeea7-0b29-4376-a7ee-9f1e6317746f",
   "metadata": {},
   "outputs": [
    {
     "name": "stdin",
     "output_type": "stream",
     "text": [
      "What is the name of your school Pan-Atlantic University\n"
     ]
    },
    {
     "name": "stdout",
     "output_type": "stream",
     "text": [
      "I love Pan-Atlantic University\n"
     ]
    }
   ],
   "source": [
    "school = input(\"What is the name of your school\")\n",
    "print('I love', school)"
   ]
  },
  {
   "cell_type": "code",
   "execution_count": 14,
   "id": "2db18bc2-1d71-40d7-8feb-81b04ae0ed20",
   "metadata": {},
   "outputs": [
    {
     "name": "stdout",
     "output_type": "stream",
     "text": [
      "99 99 99\n"
     ]
    }
   ],
   "source": [
    "x = y = z = 99\n",
    "print(x, y, z)"
   ]
  },
  {
   "cell_type": "code",
   "execution_count": 15,
   "id": "1caf42a1-1a13-41e1-95c2-1ad5368b3cec",
   "metadata": {},
   "outputs": [
    {
     "name": "stdout",
     "output_type": "stream",
     "text": [
      "198\n"
     ]
    }
   ],
   "source": [
    "print(x + y)"
   ]
  },
  {
   "cell_type": "code",
   "execution_count": null,
   "id": "0aacbc7e-e5c6-4a32-b283-775f2e7a1f99",
   "metadata": {},
   "outputs": [],
   "source": []
  }
 ],
 "metadata": {
  "kernelspec": {
   "display_name": "Python 3 (ipykernel)",
   "language": "python",
   "name": "python3"
  },
  "language_info": {
   "codemirror_mode": {
    "name": "ipython",
    "version": 3
   },
   "file_extension": ".py",
   "mimetype": "text/x-python",
   "name": "python",
   "nbconvert_exporter": "python",
   "pygments_lexer": "ipython3",
   "version": "3.9.7"
  }
 },
 "nbformat": 4,
 "nbformat_minor": 5
}
